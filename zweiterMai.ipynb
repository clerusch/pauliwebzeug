{
 "cells": [
  {
   "cell_type": "markdown",
   "id": "1de56c1e",
   "metadata": {},
   "source": []
  },
  {
   "cell_type": "code",
   "execution_count": 1,
   "id": "f5db7b6d",
   "metadata": {},
   "outputs": [],
   "source": [
    "import pyzx\n",
    "from lib.graph_loader import load_graph\n",
    "from stab2graph import stab2graph\n",
    "from graph2floq import graph2floq, betterGraph2Floq\n"
   ]
  },
  {
   "cell_type": "code",
   "execution_count": 2,
   "id": "5e837fb4",
   "metadata": {},
   "outputs": [
    {
     "ename": "TypeError",
     "evalue": "draw_matplotlib() got an unexpected keyword argument 'to_file'",
     "output_type": "error",
     "traceback": [
      "\u001b[31m---------------------------------------------------------------------------\u001b[39m",
      "\u001b[31mTypeError\u001b[39m                                 Traceback (most recent call last)",
      "\u001b[36mCell\u001b[39m\u001b[36m \u001b[39m\u001b[32mIn[2]\u001b[39m\u001b[32m, line 4\u001b[39m\n\u001b[32m      2\u001b[39m g = stab2graph(stabs)\n\u001b[32m      3\u001b[39m pyzx.settings.drawing_backend = \u001b[33m\"\u001b[39m\u001b[33mmatplotlib\u001b[39m\u001b[33m\"\u001b[39m\n\u001b[32m----> \u001b[39m\u001b[32m4\u001b[39m \u001b[43mpyzx\u001b[49m\u001b[43m.\u001b[49m\u001b[43mdraw\u001b[49m\u001b[43m(\u001b[49m\u001b[43mg\u001b[49m\u001b[43m,\u001b[49m\u001b[43m \u001b[49m\u001b[43mlabels\u001b[49m\u001b[43m=\u001b[49m\u001b[38;5;28;43;01mTrue\u001b[39;49;00m\u001b[43m,\u001b[49m\u001b[43m \u001b[49m\u001b[43mto_file\u001b[49m\u001b[43m=\u001b[49m\u001b[33;43m\"\u001b[39;49m\u001b[33;43mimg/test123.png\u001b[39;49m\u001b[33;43m\"\u001b[39;49m\u001b[43m)\u001b[49m\n\u001b[32m      5\u001b[39m \u001b[38;5;66;03m# g2 = g+g\u001b[39;00m\n\u001b[32m      6\u001b[39m \u001b[38;5;66;03m# g = graph2floq(g, ancillanodes=[4,9,22,27])\u001b[39;00m\n\u001b[32m      7\u001b[39m \u001b[38;5;66;03m# g = betterGraph2Floq(g, 5)\u001b[39;00m\n\u001b[32m      8\u001b[39m \u001b[38;5;66;03m# # print(g.qubit(13))\u001b[39;00m\n\u001b[32m      9\u001b[39m \u001b[38;5;66;03m# pyzx.draw(g, labels=True)\u001b[39;00m\n",
      "\u001b[36mFile \u001b[39m\u001b[32m~/Documents/pauliwebzeug/.venv/lib64/python3.13/site-packages/pyzx/drawing.py:69\u001b[39m, in \u001b[36mdraw\u001b[39m\u001b[34m(g, labels, **kwargs)\u001b[39m\n\u001b[32m     67\u001b[39m     \u001b[38;5;28;01mreturn\u001b[39;00m draw_d3(g, labels, **kwargs)\n\u001b[32m     68\u001b[39m \u001b[38;5;28;01melif\u001b[39;00m settings.drawing_backend == \u001b[33m\"\u001b[39m\u001b[33mmatplotlib\u001b[39m\u001b[33m\"\u001b[39m:\n\u001b[32m---> \u001b[39m\u001b[32m69\u001b[39m     \u001b[38;5;28;01mreturn\u001b[39;00m \u001b[43mdraw_matplotlib\u001b[49m\u001b[43m(\u001b[49m\u001b[43mg\u001b[49m\u001b[43m,\u001b[49m\u001b[43m \u001b[49m\u001b[43mlabels\u001b[49m\u001b[43m,\u001b[49m\u001b[43m \u001b[49m\u001b[43m*\u001b[49m\u001b[43m*\u001b[49m\u001b[43mkwargs\u001b[49m\u001b[43m)\u001b[49m\n\u001b[32m     70\u001b[39m \u001b[38;5;28;01melse\u001b[39;00m:\n\u001b[32m     71\u001b[39m     \u001b[38;5;28;01mraise\u001b[39;00m \u001b[38;5;167;01mTypeError\u001b[39;00m(\u001b[33m\"\u001b[39m\u001b[33mUnsupported drawing backend \u001b[39m\u001b[33m'\u001b[39m\u001b[38;5;132;01m{}\u001b[39;00m\u001b[33m'\u001b[39m\u001b[33m\"\u001b[39m.format(settings.drawing_backend))\n",
      "\u001b[31mTypeError\u001b[39m: draw_matplotlib() got an unexpected keyword argument 'to_file'"
     ]
    }
   ],
   "source": [
    "stabs = [\"ZZZZ\",\"XXXX\",\"ZZZZ\",\"XXXX\"]\n",
    "g = stab2graph(stabs)\n",
    "pyzx.settings.drawing_backend = \"matplotlib\"\n",
    "pyzx.draw(g, labels=True, to_file=\"img/test123.png\")\n",
    "# g2 = g+g\n",
    "# g = graph2floq(g, ancillanodes=[4,9,22,27])\n",
    "# g = betterGraph2Floq(g, 5)\n",
    "# # print(g.qubit(13))\n",
    "# pyzx.draw(g, labels=True)\n"
   ]
  },
  {
   "cell_type": "code",
   "execution_count": null,
   "id": "ef1f0aa5",
   "metadata": {},
   "outputs": [],
   "source": []
  }
 ],
 "metadata": {
  "kernelspec": {
   "display_name": ".venv",
   "language": "python",
   "name": "python3"
  },
  "language_info": {
   "codemirror_mode": {
    "name": "ipython",
    "version": 3
   },
   "file_extension": ".py",
   "mimetype": "text/x-python",
   "name": "python",
   "nbconvert_exporter": "python",
   "pygments_lexer": "ipython3",
   "version": "3.13.3"
  }
 },
 "nbformat": 4,
 "nbformat_minor": 5
}
